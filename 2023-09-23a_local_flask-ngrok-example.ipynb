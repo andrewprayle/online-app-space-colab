{
 "cells": [
  {
   "cell_type": "code",
   "execution_count": null,
   "metadata": {},
   "outputs": [],
   "source": [
    "## need to initialise the python ngrok token!"
   ]
  },
  {
   "cell_type": "code",
   "execution_count": null,
   "metadata": {},
   "outputs": [],
   "source": [
    "from flask import Flask, render_template, request\n",
    "# from flask_ngrok import run_with_ngrok\n",
    "\n",
    "#Flask initialization\n",
    "app = Flask(__name__)\n",
    "# run_with_ngrok(app)  \n",
    "\n",
    "@app.route(\"/\")\n",
    "def index():\n",
    "\treturn render_template(\"index.html\")\n",
    "\n",
    "@app.route(\"/get\", methods=[\"GET\",\"POST\"])\n",
    "def chatbot_response():\n",
    "    msg = request.form[\"msg\"]\n",
    "    response = \"ok here is a response\"\n",
    "    return str(response)\n",
    "\n",
    "if __name__ == \"__main__\":\n",
    "    app.run()"
   ]
  }
 ],
 "metadata": {
  "kernelspec": {
   "display_name": "base",
   "language": "python",
   "name": "python3"
  },
  "language_info": {
   "codemirror_mode": {
    "name": "ipython",
    "version": 3
   },
   "file_extension": ".py",
   "mimetype": "text/x-python",
   "name": "python",
   "nbconvert_exporter": "python",
   "pygments_lexer": "ipython3",
   "version": "3.9.12"
  },
  "orig_nbformat": 4
 },
 "nbformat": 4,
 "nbformat_minor": 2
}
